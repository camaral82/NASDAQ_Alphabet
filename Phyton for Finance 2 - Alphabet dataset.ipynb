{
 "cells": [
  {
   "cell_type": "markdown",
   "metadata": {},
   "source": [
    "#### 29/07/2020\n",
    "\n",
    "Working with NASDAQ Stock Data\n",
    "\n",
    "In this final chapter, you’ll try your hand at working with real-world NASDAQ stock data as you learn how to interpret new data, create masks to filter data, and visualize your findings with plots."
   ]
  },
  {
   "cell_type": "code",
   "execution_count": 1,
   "metadata": {},
   "outputs": [],
   "source": [
    "import pandas as pd"
   ]
  },
  {
   "cell_type": "code",
   "execution_count": 2,
   "metadata": {},
   "outputs": [],
   "source": [
    "alphabet = pd.read_csv(\"HistoricalQuotes3.txt\")"
   ]
  },
  {
   "cell_type": "code",
   "execution_count": 3,
   "metadata": {},
   "outputs": [
    {
     "data": {
      "text/html": [
       "<div>\n",
       "<style scoped>\n",
       "    .dataframe tbody tr th:only-of-type {\n",
       "        vertical-align: middle;\n",
       "    }\n",
       "\n",
       "    .dataframe tbody tr th {\n",
       "        vertical-align: top;\n",
       "    }\n",
       "\n",
       "    .dataframe thead th {\n",
       "        text-align: right;\n",
       "    }\n",
       "</style>\n",
       "<table border=\"1\" class=\"dataframe\">\n",
       "  <thead>\n",
       "    <tr style=\"text-align: right;\">\n",
       "      <th></th>\n",
       "      <th>date</th>\n",
       "      <th>close</th>\n",
       "      <th>volume</th>\n",
       "      <th>open</th>\n",
       "      <th>high</th>\n",
       "      <th>low</th>\n",
       "    </tr>\n",
       "  </thead>\n",
       "  <tbody>\n",
       "    <tr>\n",
       "      <th>0</th>\n",
       "      <td>2019/08/02</td>\n",
       "      <td>1196.32</td>\n",
       "      <td>1745450.0</td>\n",
       "      <td>1203.00</td>\n",
       "      <td>1209.500</td>\n",
       "      <td>1190.00</td>\n",
       "    </tr>\n",
       "    <tr>\n",
       "      <th>1</th>\n",
       "      <td>2019/08/01</td>\n",
       "      <td>1211.78</td>\n",
       "      <td>1771271.0</td>\n",
       "      <td>1217.63</td>\n",
       "      <td>1236.298</td>\n",
       "      <td>1207.00</td>\n",
       "    </tr>\n",
       "    <tr>\n",
       "      <th>2</th>\n",
       "      <td>2019/07/31</td>\n",
       "      <td>1218.20</td>\n",
       "      <td>1997999.0</td>\n",
       "      <td>1224.87</td>\n",
       "      <td>1234.910</td>\n",
       "      <td>1208.18</td>\n",
       "    </tr>\n",
       "    <tr>\n",
       "      <th>3</th>\n",
       "      <td>2019/07/30</td>\n",
       "      <td>1228.00</td>\n",
       "      <td>1430775.0</td>\n",
       "      <td>1227.00</td>\n",
       "      <td>1236.910</td>\n",
       "      <td>1225.32</td>\n",
       "    </tr>\n",
       "    <tr>\n",
       "      <th>4</th>\n",
       "      <td>2019/07/29</td>\n",
       "      <td>1241.84</td>\n",
       "      <td>2069127.0</td>\n",
       "      <td>1242.50</td>\n",
       "      <td>1248.995</td>\n",
       "      <td>1230.20</td>\n",
       "    </tr>\n",
       "  </tbody>\n",
       "</table>\n",
       "</div>"
      ],
      "text/plain": [
       "         date    close     volume     open      high      low\n",
       "0  2019/08/02  1196.32  1745450.0  1203.00  1209.500  1190.00\n",
       "1  2019/08/01  1211.78  1771271.0  1217.63  1236.298  1207.00\n",
       "2  2019/07/31  1218.20  1997999.0  1224.87  1234.910  1208.18\n",
       "3  2019/07/30  1228.00  1430775.0  1227.00  1236.910  1225.32\n",
       "4  2019/07/29  1241.84  2069127.0  1242.50  1248.995  1230.20"
      ]
     },
     "execution_count": 3,
     "metadata": {},
     "output_type": "execute_result"
    }
   ],
   "source": [
    "alphabet.head()"
   ]
  },
  {
   "cell_type": "code",
   "execution_count": 4,
   "metadata": {},
   "outputs": [],
   "source": [
    "#alphabet = alphabet.drop([0], axis = 0)"
   ]
  },
  {
   "cell_type": "code",
   "execution_count": 5,
   "metadata": {},
   "outputs": [
    {
     "data": {
      "text/plain": [
       "date       object\n",
       "close     float64\n",
       "volume    float64\n",
       "open      float64\n",
       "high      float64\n",
       "low       float64\n",
       "dtype: object"
      ]
     },
     "execution_count": 5,
     "metadata": {},
     "output_type": "execute_result"
    }
   ],
   "source": [
    "alphabet.dtypes"
   ]
  },
  {
   "cell_type": "code",
   "execution_count": null,
   "metadata": {},
   "outputs": [],
   "source": [
    "#converting values from object to int\n",
    "alphabet[\"volume\"] = pd.to_numeric(alphabet[\"volume\"], downcast=\"integer\")\n"
   ]
  },
  {
   "cell_type": "code",
   "execution_count": null,
   "metadata": {},
   "outputs": [],
   "source": [
    "#converting values from object to float\n",
    "to_float = [\"close\", \"open\", \"high\", \"low\"]\n",
    "\n",
    "for i in to_float:\n",
    "    alphabet[i] = pd.to_numeric(alphabet[i], downcast = \"float\")\n"
   ]
  },
  {
   "cell_type": "code",
   "execution_count": 7,
   "metadata": {},
   "outputs": [
    {
     "data": {
      "text/html": [
       "<div>\n",
       "<style scoped>\n",
       "    .dataframe tbody tr th:only-of-type {\n",
       "        vertical-align: middle;\n",
       "    }\n",
       "\n",
       "    .dataframe tbody tr th {\n",
       "        vertical-align: top;\n",
       "    }\n",
       "\n",
       "    .dataframe thead th {\n",
       "        text-align: right;\n",
       "    }\n",
       "</style>\n",
       "<table border=\"1\" class=\"dataframe\">\n",
       "  <thead>\n",
       "    <tr style=\"text-align: right;\">\n",
       "      <th></th>\n",
       "      <th>close</th>\n",
       "      <th>volume</th>\n",
       "      <th>open</th>\n",
       "      <th>high</th>\n",
       "      <th>low</th>\n",
       "    </tr>\n",
       "  </thead>\n",
       "  <tbody>\n",
       "    <tr>\n",
       "      <th>count</th>\n",
       "      <td>2518.000000</td>\n",
       "      <td>2.518000e+03</td>\n",
       "      <td>2518.000000</td>\n",
       "      <td>2518.000000</td>\n",
       "      <td>2518.000000</td>\n",
       "    </tr>\n",
       "    <tr>\n",
       "      <th>mean</th>\n",
       "      <td>612.300264</td>\n",
       "      <td>2.278235e+06</td>\n",
       "      <td>612.388284</td>\n",
       "      <td>617.484990</td>\n",
       "      <td>606.824462</td>\n",
       "    </tr>\n",
       "    <tr>\n",
       "      <th>std</th>\n",
       "      <td>311.029653</td>\n",
       "      <td>1.256103e+06</td>\n",
       "      <td>310.956806</td>\n",
       "      <td>313.720854</td>\n",
       "      <td>308.055488</td>\n",
       "    </tr>\n",
       "    <tr>\n",
       "      <th>min</th>\n",
       "      <td>220.278500</td>\n",
       "      <td>5.211410e+05</td>\n",
       "      <td>221.410100</td>\n",
       "      <td>223.417600</td>\n",
       "      <td>219.046000</td>\n",
       "    </tr>\n",
       "    <tr>\n",
       "      <th>25%</th>\n",
       "      <td>309.344400</td>\n",
       "      <td>1.518603e+06</td>\n",
       "      <td>309.113350</td>\n",
       "      <td>312.043200</td>\n",
       "      <td>306.689875</td>\n",
       "    </tr>\n",
       "    <tr>\n",
       "      <th>50%</th>\n",
       "      <td>550.887500</td>\n",
       "      <td>1.976994e+06</td>\n",
       "      <td>551.100000</td>\n",
       "      <td>556.012500</td>\n",
       "      <td>546.590650</td>\n",
       "    </tr>\n",
       "    <tr>\n",
       "      <th>75%</th>\n",
       "      <td>830.720000</td>\n",
       "      <td>2.619222e+06</td>\n",
       "      <td>831.457500</td>\n",
       "      <td>837.762500</td>\n",
       "      <td>826.200125</td>\n",
       "    </tr>\n",
       "    <tr>\n",
       "      <th>max</th>\n",
       "      <td>1296.200000</td>\n",
       "      <td>1.480348e+07</td>\n",
       "      <td>1289.120000</td>\n",
       "      <td>1296.975000</td>\n",
       "      <td>1271.710000</td>\n",
       "    </tr>\n",
       "  </tbody>\n",
       "</table>\n",
       "</div>"
      ],
      "text/plain": [
       "             close        volume         open         high          low\n",
       "count  2518.000000  2.518000e+03  2518.000000  2518.000000  2518.000000\n",
       "mean    612.300264  2.278235e+06   612.388284   617.484990   606.824462\n",
       "std     311.029653  1.256103e+06   310.956806   313.720854   308.055488\n",
       "min     220.278500  5.211410e+05   221.410100   223.417600   219.046000\n",
       "25%     309.344400  1.518603e+06   309.113350   312.043200   306.689875\n",
       "50%     550.887500  1.976994e+06   551.100000   556.012500   546.590650\n",
       "75%     830.720000  2.619222e+06   831.457500   837.762500   826.200125\n",
       "max    1296.200000  1.480348e+07  1289.120000  1296.975000  1271.710000"
      ]
     },
     "execution_count": 7,
     "metadata": {},
     "output_type": "execute_result"
    }
   ],
   "source": [
    "# Get stats for all numeric columns\n",
    "alphabet.describe()"
   ]
  },
  {
   "cell_type": "code",
   "execution_count": 9,
   "metadata": {},
   "outputs": [
    {
     "data": {
      "text/html": [
       "<div>\n",
       "<style scoped>\n",
       "    .dataframe tbody tr th:only-of-type {\n",
       "        vertical-align: middle;\n",
       "    }\n",
       "\n",
       "    .dataframe tbody tr th {\n",
       "        vertical-align: top;\n",
       "    }\n",
       "\n",
       "    .dataframe thead th {\n",
       "        text-align: right;\n",
       "    }\n",
       "</style>\n",
       "<table border=\"1\" class=\"dataframe\">\n",
       "  <thead>\n",
       "    <tr style=\"text-align: right;\">\n",
       "      <th></th>\n",
       "      <th>date</th>\n",
       "    </tr>\n",
       "  </thead>\n",
       "  <tbody>\n",
       "    <tr>\n",
       "      <th>count</th>\n",
       "      <td>2518</td>\n",
       "    </tr>\n",
       "    <tr>\n",
       "      <th>unique</th>\n",
       "      <td>2518</td>\n",
       "    </tr>\n",
       "    <tr>\n",
       "      <th>top</th>\n",
       "      <td>2015/11/17</td>\n",
       "    </tr>\n",
       "    <tr>\n",
       "      <th>freq</th>\n",
       "      <td>1</td>\n",
       "    </tr>\n",
       "  </tbody>\n",
       "</table>\n",
       "</div>"
      ],
      "text/plain": [
       "              date\n",
       "count         2518\n",
       "unique        2518\n",
       "top     2015/11/17\n",
       "freq             1"
      ]
     },
     "execution_count": 9,
     "metadata": {},
     "output_type": "execute_result"
    }
   ],
   "source": [
    "alphabet.describe(include=\"object\")"
   ]
  },
  {
   "cell_type": "code",
   "execution_count": 10,
   "metadata": {},
   "outputs": [
    {
     "data": {
      "text/html": [
       "<div>\n",
       "<style scoped>\n",
       "    .dataframe tbody tr th:only-of-type {\n",
       "        vertical-align: middle;\n",
       "    }\n",
       "\n",
       "    .dataframe tbody tr th {\n",
       "        vertical-align: top;\n",
       "    }\n",
       "\n",
       "    .dataframe thead th {\n",
       "        text-align: right;\n",
       "    }\n",
       "</style>\n",
       "<table border=\"1\" class=\"dataframe\">\n",
       "  <thead>\n",
       "    <tr style=\"text-align: right;\">\n",
       "      <th></th>\n",
       "      <th>close</th>\n",
       "      <th>volume</th>\n",
       "      <th>open</th>\n",
       "      <th>high</th>\n",
       "      <th>low</th>\n",
       "    </tr>\n",
       "  </thead>\n",
       "  <tbody>\n",
       "    <tr>\n",
       "      <th>count</th>\n",
       "      <td>2518.000000</td>\n",
       "      <td>2.518000e+03</td>\n",
       "      <td>2518.000000</td>\n",
       "      <td>2518.000000</td>\n",
       "      <td>2518.000000</td>\n",
       "    </tr>\n",
       "    <tr>\n",
       "      <th>mean</th>\n",
       "      <td>612.300264</td>\n",
       "      <td>2.278235e+06</td>\n",
       "      <td>612.388284</td>\n",
       "      <td>617.484990</td>\n",
       "      <td>606.824462</td>\n",
       "    </tr>\n",
       "    <tr>\n",
       "      <th>std</th>\n",
       "      <td>311.029653</td>\n",
       "      <td>1.256103e+06</td>\n",
       "      <td>310.956806</td>\n",
       "      <td>313.720854</td>\n",
       "      <td>308.055488</td>\n",
       "    </tr>\n",
       "    <tr>\n",
       "      <th>min</th>\n",
       "      <td>220.278500</td>\n",
       "      <td>5.211410e+05</td>\n",
       "      <td>221.410100</td>\n",
       "      <td>223.417600</td>\n",
       "      <td>219.046000</td>\n",
       "    </tr>\n",
       "    <tr>\n",
       "      <th>30%</th>\n",
       "      <td>326.846980</td>\n",
       "      <td>1.612094e+06</td>\n",
       "      <td>326.648420</td>\n",
       "      <td>329.873510</td>\n",
       "      <td>323.824180</td>\n",
       "    </tr>\n",
       "    <tr>\n",
       "      <th>50%</th>\n",
       "      <td>550.887500</td>\n",
       "      <td>1.976994e+06</td>\n",
       "      <td>551.100000</td>\n",
       "      <td>556.012500</td>\n",
       "      <td>546.590650</td>\n",
       "    </tr>\n",
       "    <tr>\n",
       "      <th>60%</th>\n",
       "      <td>643.910000</td>\n",
       "      <td>2.185960e+06</td>\n",
       "      <td>644.413600</td>\n",
       "      <td>654.982000</td>\n",
       "      <td>633.561460</td>\n",
       "    </tr>\n",
       "    <tr>\n",
       "      <th>max</th>\n",
       "      <td>1296.200000</td>\n",
       "      <td>1.480348e+07</td>\n",
       "      <td>1289.120000</td>\n",
       "      <td>1296.975000</td>\n",
       "      <td>1271.710000</td>\n",
       "    </tr>\n",
       "  </tbody>\n",
       "</table>\n",
       "</div>"
      ],
      "text/plain": [
       "             close        volume         open         high          low\n",
       "count  2518.000000  2.518000e+03  2518.000000  2518.000000  2518.000000\n",
       "mean    612.300264  2.278235e+06   612.388284   617.484990   606.824462\n",
       "std     311.029653  1.256103e+06   310.956806   313.720854   308.055488\n",
       "min     220.278500  5.211410e+05   221.410100   223.417600   219.046000\n",
       "30%     326.846980  1.612094e+06   326.648420   329.873510   323.824180\n",
       "50%     550.887500  1.976994e+06   551.100000   556.012500   546.590650\n",
       "60%     643.910000  2.185960e+06   644.413600   654.982000   633.561460\n",
       "max    1296.200000  1.480348e+07  1289.120000  1296.975000  1271.710000"
      ]
     },
     "execution_count": 10,
     "metadata": {},
     "output_type": "execute_result"
    }
   ],
   "source": [
    "# Stats with percentiles for %30, %50, and %60\n",
    "alphabet.describe(percentiles=[.3, .5, .6])"
   ]
  },
  {
   "cell_type": "code",
   "execution_count": 11,
   "metadata": {},
   "outputs": [
    {
     "data": {
      "text/html": [
       "<div>\n",
       "<style scoped>\n",
       "    .dataframe tbody tr th:only-of-type {\n",
       "        vertical-align: middle;\n",
       "    }\n",
       "\n",
       "    .dataframe tbody tr th {\n",
       "        vertical-align: top;\n",
       "    }\n",
       "\n",
       "    .dataframe thead th {\n",
       "        text-align: right;\n",
       "    }\n",
       "</style>\n",
       "<table border=\"1\" class=\"dataframe\">\n",
       "  <thead>\n",
       "    <tr style=\"text-align: right;\">\n",
       "      <th></th>\n",
       "      <th>date</th>\n",
       "      <th>close</th>\n",
       "      <th>volume</th>\n",
       "      <th>open</th>\n",
       "      <th>high</th>\n",
       "      <th>low</th>\n",
       "    </tr>\n",
       "  </thead>\n",
       "  <tbody>\n",
       "    <tr>\n",
       "      <th>0</th>\n",
       "      <td>2019/08/02</td>\n",
       "      <td>1196.32</td>\n",
       "      <td>1745450.0</td>\n",
       "      <td>1203.00</td>\n",
       "      <td>1209.500</td>\n",
       "      <td>1190.00</td>\n",
       "    </tr>\n",
       "    <tr>\n",
       "      <th>1</th>\n",
       "      <td>2019/08/01</td>\n",
       "      <td>1211.78</td>\n",
       "      <td>1771271.0</td>\n",
       "      <td>1217.63</td>\n",
       "      <td>1236.298</td>\n",
       "      <td>1207.00</td>\n",
       "    </tr>\n",
       "    <tr>\n",
       "      <th>2</th>\n",
       "      <td>2019/07/31</td>\n",
       "      <td>1218.20</td>\n",
       "      <td>1997999.0</td>\n",
       "      <td>1224.87</td>\n",
       "      <td>1234.910</td>\n",
       "      <td>1208.18</td>\n",
       "    </tr>\n",
       "    <tr>\n",
       "      <th>3</th>\n",
       "      <td>2019/07/30</td>\n",
       "      <td>1228.00</td>\n",
       "      <td>1430775.0</td>\n",
       "      <td>1227.00</td>\n",
       "      <td>1236.910</td>\n",
       "      <td>1225.32</td>\n",
       "    </tr>\n",
       "    <tr>\n",
       "      <th>4</th>\n",
       "      <td>2019/07/29</td>\n",
       "      <td>1241.84</td>\n",
       "      <td>2069127.0</td>\n",
       "      <td>1242.50</td>\n",
       "      <td>1248.995</td>\n",
       "      <td>1230.20</td>\n",
       "    </tr>\n",
       "  </tbody>\n",
       "</table>\n",
       "</div>"
      ],
      "text/plain": [
       "         date    close     volume     open      high      low\n",
       "0  2019/08/02  1196.32  1745450.0  1203.00  1209.500  1190.00\n",
       "1  2019/08/01  1211.78  1771271.0  1217.63  1236.298  1207.00\n",
       "2  2019/07/31  1218.20  1997999.0  1224.87  1234.910  1208.18\n",
       "3  2019/07/30  1228.00  1430775.0  1227.00  1236.910  1225.32\n",
       "4  2019/07/29  1241.84  2069127.0  1242.50  1248.995  1230.20"
      ]
     },
     "execution_count": 11,
     "metadata": {},
     "output_type": "execute_result"
    }
   ],
   "source": [
    "#Filtering stock data.\n",
    "# Mask for large enough daily high\n",
    "high_mask = alphabet.high > 500\n",
    "\n",
    "# Filter using the mask\n",
    "alphabet.loc[high_mask].head()"
   ]
  },
  {
   "cell_type": "code",
   "execution_count": 12,
   "metadata": {},
   "outputs": [
    {
     "data": {
      "text/html": [
       "<div>\n",
       "<style scoped>\n",
       "    .dataframe tbody tr th:only-of-type {\n",
       "        vertical-align: middle;\n",
       "    }\n",
       "\n",
       "    .dataframe tbody tr th {\n",
       "        vertical-align: top;\n",
       "    }\n",
       "\n",
       "    .dataframe thead th {\n",
       "        text-align: right;\n",
       "    }\n",
       "</style>\n",
       "<table border=\"1\" class=\"dataframe\">\n",
       "  <thead>\n",
       "    <tr style=\"text-align: right;\">\n",
       "      <th></th>\n",
       "      <th>date</th>\n",
       "      <th>close</th>\n",
       "      <th>volume</th>\n",
       "      <th>open</th>\n",
       "      <th>high</th>\n",
       "      <th>low</th>\n",
       "    </tr>\n",
       "  </thead>\n",
       "  <tbody>\n",
       "    <tr>\n",
       "      <th>1</th>\n",
       "      <td>2019/08/01</td>\n",
       "      <td>1211.78</td>\n",
       "      <td>1771271.0</td>\n",
       "      <td>1217.63</td>\n",
       "      <td>1236.298</td>\n",
       "      <td>1207.0</td>\n",
       "    </tr>\n",
       "  </tbody>\n",
       "</table>\n",
       "</div>"
      ],
      "text/plain": [
       "         date    close     volume     open      high     low\n",
       "1  2019/08/01  1211.78  1771271.0  1217.63  1236.298  1207.0"
      ]
     },
     "execution_count": 12,
     "metadata": {},
     "output_type": "execute_result"
    }
   ],
   "source": [
    "# Mask for specific volume\n",
    "volume_mask = alphabet.volume == 1771271\n",
    "\n",
    "# Filter using the mask\n",
    "alphabet.loc[volume_mask]"
   ]
  },
  {
   "cell_type": "code",
   "execution_count": 13,
   "metadata": {},
   "outputs": [
    {
     "data": {
      "text/html": [
       "<div>\n",
       "<style scoped>\n",
       "    .dataframe tbody tr th:only-of-type {\n",
       "        vertical-align: middle;\n",
       "    }\n",
       "\n",
       "    .dataframe tbody tr th {\n",
       "        vertical-align: top;\n",
       "    }\n",
       "\n",
       "    .dataframe thead th {\n",
       "        text-align: right;\n",
       "    }\n",
       "</style>\n",
       "<table border=\"1\" class=\"dataframe\">\n",
       "  <thead>\n",
       "    <tr style=\"text-align: right;\">\n",
       "      <th></th>\n",
       "      <th>date</th>\n",
       "      <th>close</th>\n",
       "      <th>volume</th>\n",
       "      <th>open</th>\n",
       "      <th>high</th>\n",
       "      <th>low</th>\n",
       "    </tr>\n",
       "  </thead>\n",
       "  <tbody>\n",
       "    <tr>\n",
       "      <th>0</th>\n",
       "      <td>2019/08/02</td>\n",
       "      <td>1196.32</td>\n",
       "      <td>1745450.0</td>\n",
       "      <td>1203.00</td>\n",
       "      <td>1209.500</td>\n",
       "      <td>1190.00</td>\n",
       "    </tr>\n",
       "    <tr>\n",
       "      <th>1</th>\n",
       "      <td>2019/08/01</td>\n",
       "      <td>1211.78</td>\n",
       "      <td>1771271.0</td>\n",
       "      <td>1217.63</td>\n",
       "      <td>1236.298</td>\n",
       "      <td>1207.00</td>\n",
       "    </tr>\n",
       "    <tr>\n",
       "      <th>3</th>\n",
       "      <td>2019/07/30</td>\n",
       "      <td>1228.00</td>\n",
       "      <td>1430775.0</td>\n",
       "      <td>1227.00</td>\n",
       "      <td>1236.910</td>\n",
       "      <td>1225.32</td>\n",
       "    </tr>\n",
       "    <tr>\n",
       "      <th>4</th>\n",
       "      <td>2019/07/29</td>\n",
       "      <td>1241.84</td>\n",
       "      <td>2069127.0</td>\n",
       "      <td>1242.50</td>\n",
       "      <td>1248.995</td>\n",
       "      <td>1230.20</td>\n",
       "    </tr>\n",
       "    <tr>\n",
       "      <th>5</th>\n",
       "      <td>2019/07/26</td>\n",
       "      <td>1245.22</td>\n",
       "      <td>6060795.0</td>\n",
       "      <td>1228.00</td>\n",
       "      <td>1268.394</td>\n",
       "      <td>1228.00</td>\n",
       "    </tr>\n",
       "  </tbody>\n",
       "</table>\n",
       "</div>"
      ],
      "text/plain": [
       "         date    close     volume     open      high      low\n",
       "0  2019/08/02  1196.32  1745450.0  1203.00  1209.500  1190.00\n",
       "1  2019/08/01  1211.78  1771271.0  1217.63  1236.298  1207.00\n",
       "3  2019/07/30  1228.00  1430775.0  1227.00  1236.910  1225.32\n",
       "4  2019/07/29  1241.84  2069127.0  1242.50  1248.995  1230.20\n",
       "5  2019/07/26  1245.22  6060795.0  1228.00  1268.394  1228.00"
      ]
     },
     "execution_count": 13,
     "metadata": {},
     "output_type": "execute_result"
    }
   ],
   "source": [
    "# Mask rows whose volume is not 1997999\n",
    "volume_mask = alphabet.volume != 1997999\n",
    "\n",
    "# Filter using the mask\n",
    "alphabet.loc[volume_mask].head()"
   ]
  },
  {
   "cell_type": "markdown",
   "metadata": {},
   "source": [
    "### Selecting data from data range using DATETIME"
   ]
  },
  {
   "cell_type": "code",
   "execution_count": 14,
   "metadata": {},
   "outputs": [
    {
     "data": {
      "text/plain": [
       "date       object\n",
       "close     float64\n",
       "volume    float64\n",
       "open      float64\n",
       "high      float64\n",
       "low       float64\n",
       "dtype: object"
      ]
     },
     "execution_count": 14,
     "metadata": {},
     "output_type": "execute_result"
    }
   ],
   "source": [
    "alphabet.dtypes"
   ]
  },
  {
   "cell_type": "code",
   "execution_count": 15,
   "metadata": {},
   "outputs": [],
   "source": [
    "import datetime"
   ]
  },
  {
   "cell_type": "code",
   "execution_count": 24,
   "metadata": {},
   "outputs": [],
   "source": [
    "teste = alphabet.iloc[0, 0]"
   ]
  },
  {
   "cell_type": "code",
   "execution_count": 25,
   "metadata": {},
   "outputs": [],
   "source": [
    "teste = datetime.datetime.strptime(teste, \"%Y/%m/%d\")"
   ]
  },
  {
   "cell_type": "code",
   "execution_count": 27,
   "metadata": {},
   "outputs": [
    {
     "name": "stdout",
     "output_type": "stream",
     "text": [
      "2019-08-02 00:00:00\n"
     ]
    }
   ],
   "source": [
    "print(teste)"
   ]
  },
  {
   "cell_type": "code",
   "execution_count": 29,
   "metadata": {},
   "outputs": [],
   "source": [
    "#converting from object to datetime\n",
    "i = 0\n",
    "\n",
    "for x in alphabet.date:\n",
    "    alphabet.iloc[i, 0] = datetime.datetime.strptime(alphabet.iloc[i, 0], \"%Y/%m/%d\")\n",
    "    i +=1\n"
   ]
  },
  {
   "cell_type": "code",
   "execution_count": 30,
   "metadata": {},
   "outputs": [],
   "source": [
    "start_date = datetime.datetime(2019, 8, 2)\n",
    "end_date = datetime.datetime(2019, 7, 29)"
   ]
  },
  {
   "cell_type": "code",
   "execution_count": 31,
   "metadata": {},
   "outputs": [],
   "source": [
    "#Selecting data from data range.\n",
    "# Calculate the mask for one week\n",
    "mask = (end_date <= alphabet['date']) & (alphabet['date'] <= start_date)\n",
    "\n",
    "# Use the mask to get the data for one week\n",
    "df = alphabet[mask]"
   ]
  },
  {
   "cell_type": "code",
   "execution_count": 32,
   "metadata": {},
   "outputs": [
    {
     "name": "stdout",
     "output_type": "stream",
     "text": [
      "                  date    close     volume     open      high      low\n",
      "0  2019-08-02 00:00:00  1196.32  1745450.0  1203.00  1209.500  1190.00\n",
      "1  2019-08-01 00:00:00  1211.78  1771271.0  1217.63  1236.298  1207.00\n",
      "2  2019-07-31 00:00:00  1218.20  1997999.0  1224.87  1234.910  1208.18\n",
      "3  2019-07-30 00:00:00  1228.00  1430775.0  1227.00  1236.910  1225.32\n",
      "4  2019-07-29 00:00:00  1241.84  2069127.0  1242.50  1248.995  1230.20\n"
     ]
    }
   ],
   "source": [
    "# Look at result\n",
    "print(df)"
   ]
  },
  {
   "cell_type": "code",
   "execution_count": 36,
   "metadata": {},
   "outputs": [
    {
     "data": {
      "text/plain": [
       "<matplotlib.axes._subplots.AxesSubplot at 0xa24a430>"
      ]
     },
     "execution_count": 36,
     "metadata": {},
     "output_type": "execute_result"
    },
    {
     "data": {
      "image/png": "[encoded data removed]",
      "text/plain": [
       "<Figure size 432x288 with 1 Axes>"
      ]
     },
     "metadata": {
      "needs_background": "light"
     },
     "output_type": "display_data"
    }
   ],
   "source": [
    "#Making a line plot\n",
    "# Plot the daily high price\n",
    "alphabet.plot(y='high', rot=90, title='High Daily Prices')"
   ]
  },
  {
   "cell_type": "code",
   "execution_count": 37,
   "metadata": {},
   "outputs": [
    {
     "data": {
      "text/plain": [
       "<matplotlib.axes._subplots.AxesSubplot at 0xb46fc10>"
      ]
     },
     "execution_count": 37,
     "metadata": {},
     "output_type": "execute_result"
    },
    {
     "data": {
      "image/png": "[encoded data removed]",
      "text/plain": [
       "<Figure size 432x288 with 1 Axes>"
      ]
     },
     "metadata": {
      "needs_background": "light"
     },
     "output_type": "display_data"
    }
   ],
   "source": [
    "#Create a line plot of the daily trading volume using the date as the x-axis\n",
    "# Plot daily trade volume\n",
    "alphabet.plot(y='volume', rot=90, title='Alphabet Daily Volume')"
   ]
  },
  {
   "cell_type": "code",
   "execution_count": 38,
   "metadata": {},
   "outputs": [
    {
     "data": {
      "text/plain": [
       "<matplotlib.axes._subplots.AxesSubplot at 0xb4a51b0>"
      ]
     },
     "execution_count": 38,
     "metadata": {},
     "output_type": "execute_result"
    },
    {
     "data": {
      "image/png": "[encoded data removed]",
      "text/plain": [
       "<Figure size 432x288 with 1 Axes>"
      ]
     },
     "metadata": {
      "needs_background": "light"
     },
     "output_type": "display_data"
    }
   ],
   "source": [
    "# Plot the volume using a bar plot.\n",
    "alphabet.plot(y='volume', kind='bar', title='Alphabet Daily Volume')"
   ]
  },
  {
   "cell_type": "code",
   "execution_count": 41,
   "metadata": {},
   "outputs": [
    {
     "data": {
      "text/plain": [
       "<matplotlib.axes._subplots.AxesSubplot at 0x6557230>"
      ]
     },
     "execution_count": 41,
     "metadata": {},
     "output_type": "execute_result"
    },
    {
     "data": {
      "image/png": "[encoded data removed]",
      "text/plain": [
       "<Figure size 432x288 with 1 Axes>"
      ]
     },
     "metadata": {
      "needs_background": "light"
     },
     "output_type": "display_data"
    }
   ],
   "source": [
    "# Create a histogram of the daily volume.\n",
    "alphabet.plot(y='volume', kind='hist', title='Alphabet Daily Volume')"
   ]
  },
  {
   "cell_type": "code",
   "execution_count": 42,
   "metadata": {},
   "outputs": [],
   "source": [
    "import matplotlib.pyplot as plt"
   ]
  },
  {
   "cell_type": "code",
   "execution_count": 43,
   "metadata": {},
   "outputs": [],
   "source": [
    "import numpy as np"
   ]
  },
  {
   "cell_type": "code",
   "execution_count": 45,
   "metadata": {},
   "outputs": [],
   "source": [
    "volume = list(alphabet['volume'])"
   ]
  },
  {
   "cell_type": "code",
   "execution_count": 46,
   "metadata": {},
   "outputs": [],
   "source": [
    "volume = np.array(volume)"
   ]
  },
  {
   "cell_type": "code",
   "execution_count": 48,
   "metadata": {},
   "outputs": [
    {
     "data": {
      "image/png": "[encoded data removed]",
      "text/plain": [
       "<Figure size 432x288 with 1 Axes>"
      ]
     },
     "metadata": {
      "needs_background": "light"
     },
     "output_type": "display_data"
    }
   ],
   "source": [
    "# Plot histogram \n",
    "plt.hist(volume, bins = 100)\n",
    "\n",
    "# Add x-label\n",
    "plt.xlabel('Alphabet Daily Volume using Matplotlib')\n",
    "\n",
    "# Add y-label\n",
    "plt.ylabel('Frequency')\n",
    "\n",
    "# Show plot\n",
    "plt.show()"
   ]
  }
 ],
 "metadata": {
  "kernelspec": {
   "display_name": "Python 3",
   "language": "python",
   "name": "python3"
  },
  "language_info": {
   "codemirror_mode": {
    "name": "ipython",
    "version": 3
   },
   "file_extension": ".py",
   "mimetype": "text/x-python",
   "name": "python",
   "nbconvert_exporter": "python",
   "pygments_lexer": "ipython3",
   "version": "3.7.4"
  }
 },
 "nbformat": 4,
 "nbformat_minor": 2
}
